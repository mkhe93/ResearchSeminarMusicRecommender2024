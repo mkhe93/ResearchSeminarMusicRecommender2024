{
 "cells": [
  {
   "metadata": {
    "ExecuteTime": {
     "end_time": "2024-10-18T08:10:56.301077Z",
     "start_time": "2024-10-18T08:10:56.289211Z"
    }
   },
   "cell_type": "code",
   "source": [
    "import os\n",
    "import sys\n",
    "from pathlib import Path\n",
    "\n",
    "# setting proper working directory\n",
    "PROJECT_DIRECTORY = Path(os.path.abspath('')).resolve().parents[0]\n",
    "sys.path.extend([str(PROJECT_DIRECTORY)])\n",
    "\n",
    "print(f'Python {sys.version} on {sys.platform}')\n",
    "print('Project directory: ', PROJECT_DIRECTORY)"
   ],
   "id": "9fc419b1e6bbbd1d",
   "outputs": [
    {
     "name": "stdout",
     "output_type": "stream",
     "text": [
      "Python 3.9.19 (main, Jul  7 2024, 08:52:44) \n",
      "[Clang 15.0.0 (clang-1500.3.9.4)] on darwin\n",
      "Project directory:  /Users/markus/Documents/privat/Studium/Diplomarbeit/ResearchSeminarMusicRecommender2024\n"
     ]
    }
   ],
   "execution_count": 1
  },
  {
   "metadata": {
    "ExecuteTime": {
     "end_time": "2024-10-18T08:11:01.309228Z",
     "start_time": "2024-10-18T08:11:00.565463Z"
    }
   },
   "cell_type": "code",
   "source": [
    "import numpy as np\n",
    "import pandas as pd\n",
    "from implicit.evaluation import leave_k_out_split\n",
    "from src.utilities.Helper import load_data, create_sparse_matrix\n",
    "from src.utilities.MfAlgorithms import MFAlgorithms, MatrixFactorizationRecommender\n",
    "from src.utilities.Metrics import Evaluation, Metrics"
   ],
   "id": "5cbd5a2460e6b7c4",
   "outputs": [
    {
     "name": "stderr",
     "output_type": "stream",
     "text": [
      "/Users/markus/Documents/privat/Studium/Diplomarbeit/ResearchSeminarMusicRecommender2024/.venv/lib/python3.9/site-packages/tqdm/auto.py:21: TqdmWarning: IProgress not found. Please update jupyter and ipywidgets. See https://ipywidgets.readthedocs.io/en/stable/user_install.html\n",
      "  from .autonotebook import tqdm as notebook_tqdm\n"
     ]
    }
   ],
   "execution_count": 2
  },
  {
   "metadata": {
    "ExecuteTime": {
     "end_time": "2024-10-18T08:11:02.529604Z",
     "start_time": "2024-10-18T08:11:02.525988Z"
    }
   },
   "cell_type": "code",
   "source": [
    "FILENAME = PROJECT_DIRECTORY / \"data/processed/user_item_interaction_FILTERED_ANONYMIZED.txt\"\n",
    "DATASET = \"real\"\n",
    "ROWS = 100000\n",
    "TRAIN_TEST_SPLIT_STRATEGY = 42\n",
    "FOLDS = 5"
   ],
   "id": "ae666416d21d4733",
   "outputs": [],
   "execution_count": 3
  },
  {
   "metadata": {
    "ExecuteTime": {
     "end_time": "2024-10-18T08:11:04.446204Z",
     "start_time": "2024-10-18T08:11:04.262990Z"
    }
   },
   "cell_type": "code",
   "source": [
    "db_interaction = load_data(FILENAME, rows = ROWS, dataset=DATASET)\n",
    "print(db_interaction.shape)\n",
    "print(db_interaction.keys())\n",
    "\n",
    "if ROWS is not None:\n",
    "    # ONLY FOR SUBSETS: drop users below median interactions\n",
    "    threshold = np.median(db_interaction['userID'].value_counts())\n",
    "    print(\"Median user interactions: \", threshold)\n",
    "    # for manual values to remove\n",
    "    threshold = 20\n",
    "    filter_users = db_interaction['userID'].value_counts() >= threshold\n",
    "    filter_users = filter_users[filter_users].index.tolist()\n",
    "    db_interaction = db_interaction[db_interaction['userID'].isin(filter_users)].reset_index(drop=True)\n",
    "    filter_items = db_interaction['itemID'].value_counts() >= threshold\n",
    "    filter_items = filter_items[filter_items].index.tolist()\n",
    "    db_interaction = db_interaction[db_interaction['itemID'].isin(filter_items)].reset_index(drop=True)\n",
    "\n",
    "    print(\"The new size is: \", db_interaction.shape)\n",
    "\n",
    "sparse_user_item_interaction, user_index, item_index = create_sparse_matrix(db_interaction, dataset=DATASET)\n",
    "\n",
    "print(\"Number of (users, items): \", sparse_user_item_interaction.shape)\n",
    "\n",
    "print(sparse_user_item_interaction.getnnz())\n",
    "\n",
    "n_total = sparse_user_item_interaction.shape[0]*sparse_user_item_interaction.shape[1]\n",
    "n_ratings = sparse_user_item_interaction.nnz\n",
    "sparsity = n_ratings/n_total\n",
    "print(f\"Matrix sparsity: {round(sparsity*100,2)}%\")"
   ],
   "id": "890f66be18163fd7",
   "outputs": [
    {
     "name": "stdout",
     "output_type": "stream",
     "text": [
      "(100000, 2)\n",
      "Index(['userID', 'itemID'], dtype='object')\n",
      "Median user interactions:  8.0\n",
      "The new size is:  (24395, 2)\n",
      "Number of (users, items):  (1005, 519)\n",
      "24395\n",
      "Matrix sparsity: 4.68%\n"
     ]
    }
   ],
   "execution_count": 4
  },
  {
   "metadata": {
    "ExecuteTime": {
     "end_time": "2024-10-18T08:11:07.837899Z",
     "start_time": "2024-10-18T08:11:07.826544Z"
    }
   },
   "cell_type": "code",
   "source": [
    "#train_set, test_set = train_test_split(sparse_user_item_interaction, user_index, item_index, train_percentage=0.8, k=FOLDS, split_strategy=TRAIN_TEST_SPLIT_STRATEGY)\n",
    "train_set, test_set = leave_k_out_split(sparse_user_item_interaction, K=10, random_state=42)"
   ],
   "id": "cc6bc914b6829885",
   "outputs": [],
   "execution_count": 5
  },
  {
   "metadata": {
    "ExecuteTime": {
     "end_time": "2024-10-18T08:11:10.878277Z",
     "start_time": "2024-10-18T08:11:10.593341Z"
    }
   },
   "cell_type": "code",
   "source": [
    "np.random.seed(3)\n",
    "#NUMBER_USERS = 10\n",
    "NUMB_EVAL_USERS = sparse_user_item_interaction.shape[0]\n",
    "TOP_N = 10\n",
    "EVAL_USERS = np.random.choice(user_index.cat.categories, NUMB_EVAL_USERS, replace=False)\n",
    "EVAL_USERS_IDX = [user_index.cat.codes[user_index==user].unique()[0] for user in EVAL_USERS]\n",
    "# print(f'CustomerIDs: {EVAL_USERS}')\n",
    "if TRAIN_TEST_SPLIT_STRATEGY == \"cross-fold\":\n",
    "    print(f'Total downloads per customer: {sparse_user_item_interaction[EVAL_USERS_IDX].getnnz(axis=1)}')\n",
    "    for fold in range(FOLDS):\n",
    "        print(f'Total downloads per customer in train: {train_set[fold][EVAL_USERS_IDX].getnnz(axis=1)}')\n",
    "        print(f'Total downloads per customer in test: {test_set[fold][EVAL_USERS_IDX].getnnz(axis=1)}')\n",
    "else:\n",
    "    print(f'Total downloads per customer: {sparse_user_item_interaction[EVAL_USERS_IDX].getnnz(axis=1)}')\n",
    "    print(f'Total downloads per customer in train: {train_set[EVAL_USERS_IDX].getnnz(axis=1)}')\n",
    "    print(f'Total downloads per customer in test: {test_set[EVAL_USERS_IDX].getnnz(axis=1)}')"
   ],
   "id": "37419e26637b13a7",
   "outputs": [
    {
     "name": "stdout",
     "output_type": "stream",
     "text": [
      "Total downloads per customer: [40  1 14 ...  9  3 56]\n",
      "Total downloads per customer in train: [30  1  4 ...  9  3 46]\n",
      "Total downloads per customer in test: [10  0 10 ...  0  0 30]\n"
     ]
    }
   ],
   "execution_count": 6
  },
  {
   "metadata": {
    "ExecuteTime": {
     "end_time": "2024-10-18T08:11:13.385787Z",
     "start_time": "2024-10-18T08:11:13.382767Z"
    }
   },
   "cell_type": "code",
   "source": [
    "bpr_topN = MatrixFactorizationRecommender(MFAlgorithms)\n",
    "bpr_topN.add_algorithm('bpr_algorithm')"
   ],
   "id": "3c74c82237562334",
   "outputs": [],
   "execution_count": 7
  },
  {
   "metadata": {
    "ExecuteTime": {
     "end_time": "2024-10-18T08:12:18.353447Z",
     "start_time": "2024-10-18T08:12:18.350389Z"
    }
   },
   "cell_type": "code",
   "source": "bpr_results_list = []",
   "id": "b83ef34656b23f57",
   "outputs": [],
   "execution_count": 11
  },
  {
   "metadata": {
    "ExecuteTime": {
     "end_time": "2024-10-18T08:12:20.066121Z",
     "start_time": "2024-10-18T08:12:20.058629Z"
    }
   },
   "cell_type": "code",
   "source": [
    "# list of metrics to apply\n",
    "metrics_list = ['MatchCount', 'Precision', 'MR', 'MRR', 'MAP', 'NDCG','Coverage', 'APLT', 'ARP']\n",
    "\n",
    "# Instantiate the Evaluation class\n",
    "evaluator = Evaluation(Metrics, sparse_user_item_interaction)\n",
    "\n",
    "# Add metrics from the Metrics class\n",
    "for metric in metrics_list:\n",
    "    evaluator.add_metric(metric)\n",
    "\n",
    "def evaluate(evaluators_predictions):# Evaluate metrics for each evaluator and store results\n",
    "    results = []\n",
    "    for evaluator_name, recommendations in evaluators_predictions.items():\n",
    "        result = {\n",
    "            'Evaluator': evaluator_name,\n",
    "            'MatchCount': evaluator.evaluate('MatchCount', recommendations, test_set, user_index, item_index),\n",
    "            'Precision': evaluator.evaluate('Precision', recommendations, test_set, user_index, item_index),\n",
    "            'MR': evaluator.evaluate('MR', recommendations, test_set, user_index, item_index),\n",
    "            'MRR': evaluator.evaluate('MRR', recommendations, test_set, user_index, item_index),\n",
    "            'MAP': evaluator.evaluate('MAP', recommendations, test_set, user_index, item_index),\n",
    "            'NDCG': evaluator.evaluate('NDCG', recommendations, test_set, user_index, item_index),\n",
    "            'Coverage': evaluator.evaluate('Coverage', recommendations, test_set, user_index, item_index),\n",
    "            'APLT': evaluator.evaluate('APLT', recommendations, test_set, user_index, item_index, threshold=0.2),\n",
    "            'ARP': evaluator.evaluate('ARP', recommendations, test_set, user_index, item_index)\n",
    "        }\n",
    "        results.append(result)\n",
    "\n",
    "    # Create a DataFrame from the results\n",
    "    df = pd.DataFrame(results)\n",
    "    #df.set_index('Evaluator', inplace=True)\n",
    "    return df"
   ],
   "id": "1d610854470ec00e",
   "outputs": [],
   "execution_count": 12
  },
  {
   "metadata": {
    "ExecuteTime": {
     "end_time": "2024-10-18T08:21:13.078393Z",
     "start_time": "2024-10-18T08:21:13.075317Z"
    }
   },
   "cell_type": "code",
   "source": [
    "factors = [75]\n",
    "regularization = [0.5]\n",
    "alpha = [1]\n",
    "iterations = [200]\n",
    "learning_rate = 0.00001"
   ],
   "id": "91e4ff52866d24c9",
   "outputs": [],
   "execution_count": 63
  },
  {
   "metadata": {
    "ExecuteTime": {
     "end_time": "2024-10-18T08:21:23.323136Z",
     "start_time": "2024-10-18T08:21:14.063067Z"
    }
   },
   "cell_type": "code",
   "source": [
    "steps = len(factors) * len(regularization) * len(alpha) * len(iterations)\n",
    "i = 1\n",
    "\n",
    "for factor in factors:\n",
    "    print(f\"Progress: {i/steps *100:.2f}%\")\n",
    "    for reg in regularization:\n",
    "        for a in alpha:\n",
    "            for iter in iterations:\n",
    "                bpr_topN.fit(user_item_matrix=train_set, learning_rate=learning_rate, factors=factor, regularization=reg, alpha=a, iterations=iter, verify_negative_samples=True, random_state=42)\n",
    "                BPRRecoms = bpr_topN.recommend(EVAL_USERS, train_set, user_index, item_index, TOP_N)\n",
    "                evaluators_predictions = {'BPRMatrixFactorization': BPRRecoms}\n",
    "                temp_df = evaluate(evaluators_predictions)\n",
    "                temp_df['a'] = a\n",
    "                temp_df['regularization'] = reg\n",
    "                temp_df['factors'] = factor\n",
    "                temp_df['iterations'] = iter\n",
    "                bpr_results_list.append(temp_df)\n",
    "                i += 1\n",
    "print(f\"Progress: {i/steps *100:.2f}%\")     \n",
    "bpr_results_df = pd.concat(bpr_results_list)"
   ],
   "id": "4ee6bf3e5f88e89b",
   "outputs": [
    {
     "name": "stdout",
     "output_type": "stream",
     "text": [
      "Progress: 100.00%\n"
     ]
    },
    {
     "name": "stderr",
     "output_type": "stream",
     "text": [
      "100%|██████████| 200/200 [00:01<00:00, 177.02it/s, train_auc=52.16%, skipped=15.77%]\n"
     ]
    },
    {
     "name": "stdout",
     "output_type": "stream",
     "text": [
      "Progress: 200.00%\n"
     ]
    }
   ],
   "execution_count": 64
  },
  {
   "metadata": {
    "ExecuteTime": {
     "end_time": "2024-10-18T08:21:23.412911Z",
     "start_time": "2024-10-18T08:21:23.402738Z"
    }
   },
   "cell_type": "code",
   "source": "print(bpr_results_df)",
   "id": "934067a1d8886116",
   "outputs": [
    {
     "name": "stdout",
     "output_type": "stream",
     "text": [
      "                Evaluator  MatchCount  Precision        MR       MRR  \\\n",
      "0  BPRMatrixFactorization         264   0.026269  0.218905  0.076018   \n",
      "0  BPRMatrixFactorization         173   0.017214  0.155224  0.040683   \n",
      "0  BPRMatrixFactorization         382   0.038010  0.290547  0.115109   \n",
      "0  BPRMatrixFactorization         297   0.029552  0.236816  0.087195   \n",
      "0  BPRMatrixFactorization         355   0.035323  0.270647  0.089696   \n",
      "0  BPRMatrixFactorization         395   0.039303  0.287562  0.082103   \n",
      "0  BPRMatrixFactorization         643   0.063980  0.366169  0.195646   \n",
      "0  BPRMatrixFactorization         672   0.066866  0.370149  0.180252   \n",
      "0  BPRMatrixFactorization         516   0.051343  0.343284  0.181434   \n",
      "0  BPRMatrixFactorization         681   0.067761  0.363184  0.201070   \n",
      "0  BPRMatrixFactorization         682   0.067861  0.375124  0.201392   \n",
      "0  BPRMatrixFactorization         679   0.067562  0.359204  0.199679   \n",
      "0  BPRMatrixFactorization         679   0.067562  0.359204  0.199679   \n",
      "0  BPRMatrixFactorization         690   0.068657  0.366169  0.200439   \n",
      "0  BPRMatrixFactorization         671   0.066766  0.368159  0.200110   \n",
      "0  BPRMatrixFactorization         649   0.064577  0.374129  0.162446   \n",
      "0  BPRMatrixFactorization         671   0.066766  0.365174  0.199287   \n",
      "0  BPRMatrixFactorization         671   0.066766  0.361194  0.186598   \n",
      "\n",
      "        MAP      NDCG  Coverage      APLT         ARP  a  regularization  \\\n",
      "0  0.069254  0.108228  0.044316  0.239204   88.373632  1             1.0   \n",
      "0  0.039660  0.067214  0.040462  0.503184   64.666169  1             1.0   \n",
      "0  0.100333  0.154819  0.052023  0.306667  109.722090  1             1.0   \n",
      "0  0.078708  0.121065  0.050096  0.496816   86.995025  1             1.0   \n",
      "0  0.081586  0.133467  0.048170  0.303085  103.053532  1             1.0   \n",
      "0  0.073124  0.131692  0.057803  0.266269  114.029453  1             0.8   \n",
      "0  0.142770  0.225321  0.092486  0.001692  169.783383  1             0.8   \n",
      "0  0.129693  0.216697  0.086705  0.000697  176.365970  1             0.8   \n",
      "0  0.143293  0.210320  0.057803  0.125274  143.785970  1             0.8   \n",
      "0  0.146436  0.230721  0.098266  0.000697  178.571244  1             0.8   \n",
      "0  0.146128  0.232230  0.098266  0.000199  177.005871  1             0.8   \n",
      "0  0.144834  0.229102  0.100193  0.000100  177.262189  1             0.8   \n",
      "0  0.144834  0.229102  0.100193  0.000100  177.262189  2             0.8   \n",
      "0  0.144678  0.230650  0.098266  0.000000  177.492438  1             0.5   \n",
      "0  0.144933  0.229690  0.100193  0.000100  178.059104  1             0.5   \n",
      "0  0.120709  0.207839  0.088632  0.004577  166.918806  1             0.5   \n",
      "0  0.142673  0.227841  0.086705  0.001592  177.710149  1             0.5   \n",
      "0  0.134075  0.219531  0.090559  0.001095  177.695622  1             0.5   \n",
      "\n",
      "   factors  iterations  \n",
      "0      400          10  \n",
      "0      400          10  \n",
      "0      100          10  \n",
      "0       50          10  \n",
      "0       50          20  \n",
      "0      100          20  \n",
      "0      100          50  \n",
      "0      100         100  \n",
      "0      100          50  \n",
      "0      100          50  \n",
      "0      100         200  \n",
      "0      200         200  \n",
      "0      200         200  \n",
      "0      200         200  \n",
      "0      100         200  \n",
      "0      100         200  \n",
      "0      100         200  \n",
      "0       75         200  \n"
     ]
    }
   ],
   "execution_count": 65
  },
  {
   "metadata": {},
   "cell_type": "code",
   "source": [
    "bpr_results_df = bpr_results_df.reset_index(drop=True)\n",
    "# als_results_df.to_csv(\"../data/evaluation/parameter_tuning/als-mf-top{TOP_N}-{NUMB_EVAL_USERS}user-leaveK-{ROWS}Rows.txt\", sep=\"\\t\", encoding='utf-16', index=False)"
   ],
   "id": "d11e262572ba04f7",
   "outputs": [],
   "execution_count": null
  }
 ],
 "metadata": {
  "kernelspec": {
   "display_name": "Python 3",
   "language": "python",
   "name": "python3"
  },
  "language_info": {
   "codemirror_mode": {
    "name": "ipython",
    "version": 2
   },
   "file_extension": ".py",
   "mimetype": "text/x-python",
   "name": "python",
   "nbconvert_exporter": "python",
   "pygments_lexer": "ipython2",
   "version": "2.7.6"
  }
 },
 "nbformat": 4,
 "nbformat_minor": 5
}
