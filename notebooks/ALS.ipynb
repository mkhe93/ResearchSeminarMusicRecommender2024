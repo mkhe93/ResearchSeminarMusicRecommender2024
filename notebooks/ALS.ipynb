{
 "cells": [
  {
   "cell_type": "code",
   "id": "initial_id",
   "metadata": {
    "collapsed": true,
    "ExecuteTime": {
     "end_time": "2024-10-18T09:44:49.059381Z",
     "start_time": "2024-10-18T09:44:49.054328Z"
    }
   },
   "source": [
    "import os\n",
    "import sys\n",
    "from pathlib import Path\n",
    "\n",
    "# setting proper working directory\n",
    "PROJECT_DIRECTORY = Path(os.path.abspath('')).resolve().parents[0]\n",
    "sys.path.extend([str(PROJECT_DIRECTORY)])\n",
    "\n",
    "print(f'Python {sys.version} on {sys.platform}')\n",
    "print('Project directory: ', PROJECT_DIRECTORY)"
   ],
   "outputs": [
    {
     "name": "stdout",
     "output_type": "stream",
     "text": [
      "Python 3.9.19 (main, Jul  7 2024, 08:52:44) \n",
      "[Clang 15.0.0 (clang-1500.3.9.4)] on darwin\n",
      "Project directory:  /Users/markus/Documents/privat/Studium/Diplomarbeit/ResearchSeminarMusicRecommender2024\n"
     ]
    }
   ],
   "execution_count": 40
  },
  {
   "metadata": {
    "ExecuteTime": {
     "end_time": "2024-10-18T09:44:50.293201Z",
     "start_time": "2024-10-18T09:44:50.289288Z"
    }
   },
   "cell_type": "code",
   "source": [
    "import numpy as np\n",
    "import pandas as pd\n",
    "from implicit.evaluation import leave_k_out_split\n",
    "from src.utilities.Helper import load_data, create_sparse_matrix\n",
    "from src.utilities.MfAlgorithms import MFAlgorithms, MatrixFactorizationRecommender\n",
    "from src.utilities.Metrics import Evaluation, Metrics"
   ],
   "id": "5cbd5a2460e6b7c4",
   "outputs": [],
   "execution_count": 41
  },
  {
   "metadata": {
    "ExecuteTime": {
     "end_time": "2024-10-18T09:44:51.757473Z",
     "start_time": "2024-10-18T09:44:51.753569Z"
    }
   },
   "cell_type": "code",
   "source": [
    "FILENAME = PROJECT_DIRECTORY / \"data/processed/user_item_interaction_FILTERED_ANONYMIZED.txt\"\n",
    "DATASET = \"real\"\n",
    "ROWS = 100000\n",
    "TRAIN_TEST_SPLIT_STRATEGY = 42\n",
    "FOLDS = 5"
   ],
   "id": "ae666416d21d4733",
   "outputs": [],
   "execution_count": 42
  },
  {
   "metadata": {
    "ExecuteTime": {
     "end_time": "2024-10-18T09:44:53.407646Z",
     "start_time": "2024-10-18T09:44:53.207884Z"
    }
   },
   "cell_type": "code",
   "source": [
    "db_interaction = load_data(FILENAME, rows = ROWS, dataset=DATASET)\n",
    "print(db_interaction.shape)\n",
    "print(db_interaction.keys())\n",
    "\n",
    "if ROWS is not None:\n",
    "    # ONLY FOR SUBSETS: drop users below median interactions\n",
    "    threshold = np.median(db_interaction['userID'].value_counts())\n",
    "    print(\"Median user interactions: \", threshold)\n",
    "    # for manual values to remove\n",
    "    threshold = 20\n",
    "    filter_users = db_interaction['userID'].value_counts() >= threshold\n",
    "    filter_users = filter_users[filter_users].index.tolist()\n",
    "    db_interaction = db_interaction[db_interaction['userID'].isin(filter_users)].reset_index(drop=True)\n",
    "\n",
    "    print(\"The new size is: \", db_interaction.shape)\n",
    "\n",
    "sparse_user_item_interaction, user_index, item_index = create_sparse_matrix(db_interaction, dataset=DATASET)\n",
    "\n",
    "print(\"Number of (users, items): \", sparse_user_item_interaction.shape)\n",
    "\n",
    "print(sparse_user_item_interaction.getnnz())\n",
    "\n",
    "n_total = sparse_user_item_interaction.shape[0]*sparse_user_item_interaction.shape[1]\n",
    "n_ratings = sparse_user_item_interaction.nnz\n",
    "sparsity = n_ratings/n_total\n",
    "print(f\"Matrix sparsity: {round(sparsity*100,2)}%\")"
   ],
   "id": "890f66be18163fd7",
   "outputs": [
    {
     "name": "stdout",
     "output_type": "stream",
     "text": [
      "(100000, 2)\n",
      "Index(['userID', 'itemID'], dtype='object')\n",
      "Median user interactions:  8.0\n",
      "The new size is:  (83220, 2)\n",
      "Number of (users, items):  (1051, 19684)\n",
      "83220\n",
      "Matrix sparsity: 0.4%\n"
     ]
    }
   ],
   "execution_count": 43
  },
  {
   "metadata": {
    "ExecuteTime": {
     "end_time": "2024-10-18T09:17:00.488041Z",
     "start_time": "2024-10-18T09:17:00.463282Z"
    }
   },
   "cell_type": "code",
   "source": [
    "#train_set, test_set = train_test_split(sparse_user_item_interaction, user_index, item_index, train_percentage=0.8, k=FOLDS, split_strategy=TRAIN_TEST_SPLIT_STRATEGY)\n",
    "train_set, test_set = leave_k_out_split(sparse_user_item_interaction, K=10, random_state=42)"
   ],
   "id": "cc6bc914b6829885",
   "outputs": [],
   "execution_count": 26
  },
  {
   "metadata": {
    "ExecuteTime": {
     "end_time": "2024-10-18T09:17:02.023122Z",
     "start_time": "2024-10-18T09:17:01.624293Z"
    }
   },
   "cell_type": "code",
   "source": [
    "np.random.seed(3)\n",
    "#NUMBER_USERS = 10\n",
    "NUMB_EVAL_USERS = 1051\n",
    "TOP_N = 10\n",
    "EVAL_USERS = np.random.choice(user_index.cat.categories, NUMB_EVAL_USERS, replace=False)\n",
    "EVAL_USERS_IDX = [user_index.cat.codes[user_index==user].unique()[0] for user in EVAL_USERS]\n",
    "# print(f'CustomerIDs: {EVAL_USERS}')\n",
    "if TRAIN_TEST_SPLIT_STRATEGY == \"cross-fold\":\n",
    "    print(f'Total downloads per customer: {sparse_user_item_interaction[EVAL_USERS_IDX].getnnz(axis=1)}')\n",
    "    for fold in range(FOLDS):\n",
    "        print(f'Total downloads per customer in train: {train_set[fold][EVAL_USERS_IDX].getnnz(axis=1)}')\n",
    "        print(f'Total downloads per customer in test: {test_set[fold][EVAL_USERS_IDX].getnnz(axis=1)}')\n",
    "else:\n",
    "    print(f'Total downloads per customer: {sparse_user_item_interaction[EVAL_USERS_IDX].getnnz(axis=1)}')\n",
    "    print(f'Total downloads per customer in train: {train_set[EVAL_USERS_IDX].getnnz(axis=1)}')\n",
    "    print(f'Total downloads per customer in test: {test_set[EVAL_USERS_IDX].getnnz(axis=1)}')"
   ],
   "id": "37419e26637b13a7",
   "outputs": [
    {
     "name": "stdout",
     "output_type": "stream",
     "text": [
      "Total downloads per customer: [131  45  22 ...  52  53  29]\n",
      "Total downloads per customer in train: [121  35  12 ...  42  43  19]\n",
      "Total downloads per customer in test: [10 10 10 ... 10 10 10]\n"
     ]
    }
   ],
   "execution_count": 27
  },
  {
   "metadata": {
    "ExecuteTime": {
     "end_time": "2024-10-18T09:17:03.413515Z",
     "start_time": "2024-10-18T09:17:03.409744Z"
    }
   },
   "cell_type": "code",
   "source": [
    "als_topN = MatrixFactorizationRecommender(MFAlgorithms)\n",
    "als_topN.add_algorithm('als_algorithm')"
   ],
   "id": "3c74c82237562334",
   "outputs": [],
   "execution_count": 28
  },
  {
   "metadata": {
    "ExecuteTime": {
     "end_time": "2024-10-18T09:17:48.087469Z",
     "start_time": "2024-10-18T09:17:48.084489Z"
    }
   },
   "cell_type": "code",
   "source": "als_results_list = []",
   "id": "b83ef34656b23f57",
   "outputs": [],
   "execution_count": 32
  },
  {
   "metadata": {
    "ExecuteTime": {
     "end_time": "2024-10-18T09:37:10.687006Z",
     "start_time": "2024-10-18T09:37:10.678380Z"
    }
   },
   "cell_type": "code",
   "source": [
    "# list of metrics to apply\n",
    "metrics_list = ['MatchCount', 'Precision', 'MR', 'MRR', 'MAP', 'NDCG','Coverage', 'APLT', 'ARP']\n",
    "\n",
    "# Instantiate the Evaluation class\n",
    "evaluator = Evaluation(Metrics, sparse_user_item_interaction)\n",
    "\n",
    "# Add metrics from the Metrics class\n",
    "for metric in metrics_list:\n",
    "    evaluator.add_metric(metric)\n",
    "\n",
    "def evaluate(evaluators_predictions):# Evaluate metrics for each evaluator and store results\n",
    "    results = []\n",
    "    for evaluator_name, recommendations in evaluators_predictions.items():\n",
    "        result = {\n",
    "            'Evaluator': evaluator_name,\n",
    "            'MatchCount': evaluator.evaluate('MatchCount', recommendations, test_set, user_index, item_index),\n",
    "            'Precision': evaluator.evaluate('Precision', recommendations, test_set, user_index, item_index),\n",
    "            'MR': evaluator.evaluate('MR', recommendations, test_set, user_index, item_index),\n",
    "            'MRR': evaluator.evaluate('MRR', recommendations, test_set, user_index, item_index),\n",
    "            'MAP': evaluator.evaluate('MAP', recommendations, test_set, user_index, item_index),\n",
    "            'NDCG': evaluator.evaluate('NDCG', recommendations, test_set, user_index, item_index),\n",
    "            'Coverage': evaluator.evaluate('Coverage', recommendations, test_set, user_index, item_index),\n",
    "            'APLT': evaluator.evaluate('APLT', recommendations, test_set, user_index, item_index, threshold=0.2),\n",
    "            'ARP': evaluator.evaluate('ARP', recommendations, test_set, user_index, item_index)\n",
    "        }\n",
    "        results.append(result)\n",
    "\n",
    "    # Create a DataFrame from the results\n",
    "    df = pd.DataFrame(results)\n",
    "    #df.set_index('Evaluator', inplace=True)\n",
    "    return df"
   ],
   "id": "1d610854470ec00e",
   "outputs": [],
   "execution_count": 37
  },
  {
   "metadata": {
    "ExecuteTime": {
     "end_time": "2024-10-18T09:17:53.472591Z",
     "start_time": "2024-10-18T09:17:53.469556Z"
    }
   },
   "cell_type": "code",
   "source": [
    "factors = [100]\n",
    "regularization = [1]\n",
    "alpha = [1]\n",
    "iterations = [10]"
   ],
   "id": "91e4ff52866d24c9",
   "outputs": [],
   "execution_count": 33
  },
  {
   "metadata": {
    "ExecuteTime": {
     "end_time": "2024-10-18T09:37:25.548528Z",
     "start_time": "2024-10-18T09:37:13.826801Z"
    }
   },
   "cell_type": "code",
   "source": [
    "steps = len(factors) * len(regularization) * len(alpha) * len(iterations)\n",
    "i = 1\n",
    "\n",
    "for factor in factors:\n",
    "    print(f\"Progress: {i/steps *100:.2f}%\")\n",
    "    for reg in regularization:\n",
    "        for a in alpha:\n",
    "            for iter in iterations:\n",
    "                als_topN.fit(user_item_matrix=train_set, factors=factor, regularization=reg, alpha=a, iterations=iter, random_state=42)\n",
    "                ALSRecoms = als_topN.recommend(EVAL_USERS, train_set, user_index, item_index, TOP_N)\n",
    "                evaluators_predictions = {'ALSMatrixFactorization': ALSRecoms}\n",
    "                temp_df = evaluate(evaluators_predictions)\n",
    "                temp_df['a'] = a\n",
    "                temp_df['regularization'] = reg\n",
    "                temp_df['factors'] = factor\n",
    "                temp_df['iterations'] = iter\n",
    "                als_results_list.append(temp_df)\n",
    "                i += 1\n",
    "print(f\"Progress: {i/steps *100:.2f}%\")     \n",
    "als_results_df = pd.concat(als_results_list)"
   ],
   "id": "4ee6bf3e5f88e89b",
   "outputs": [
    {
     "name": "stdout",
     "output_type": "stream",
     "text": [
      "Progress: 100.00%\n"
     ]
    },
    {
     "name": "stderr",
     "output_type": "stream",
     "text": [
      "100%|██████████| 10/10 [00:01<00:00,  9.94it/s]\n"
     ]
    },
    {
     "name": "stdout",
     "output_type": "stream",
     "text": [
      "Progress: 200.00%\n"
     ]
    }
   ],
   "execution_count": 38
  },
  {
   "metadata": {
    "ExecuteTime": {
     "end_time": "2024-10-18T09:37:27.134719Z",
     "start_time": "2024-10-18T09:37:27.122429Z"
    }
   },
   "cell_type": "code",
   "source": "als_results_df",
   "id": "934067a1d8886116",
   "outputs": [
    {
     "data": {
      "text/plain": [
       "                Evaluator  MatchCount  Precision        MR       MRR      MAP  \\\n",
       "0  ALSMatrixFactorization        1563   0.148716  0.589914  0.331981  0.21698   \n",
       "0  ALSMatrixFactorization        1563   0.148716  0.589914  0.331981  0.21698   \n",
       "\n",
       "       NDCG  Coverage      APLT        ARP  a  regularization  factors  \\\n",
       "0  0.383296  0.075798  0.024643  78.423501  1               1      100   \n",
       "0  0.383296  0.075798  0.024643  78.423501  1               1      100   \n",
       "\n",
       "   iterations  \n",
       "0          10  \n",
       "0          10  "
      ],
      "text/html": [
       "<div>\n",
       "<style scoped>\n",
       "    .dataframe tbody tr th:only-of-type {\n",
       "        vertical-align: middle;\n",
       "    }\n",
       "\n",
       "    .dataframe tbody tr th {\n",
       "        vertical-align: top;\n",
       "    }\n",
       "\n",
       "    .dataframe thead th {\n",
       "        text-align: right;\n",
       "    }\n",
       "</style>\n",
       "<table border=\"1\" class=\"dataframe\">\n",
       "  <thead>\n",
       "    <tr style=\"text-align: right;\">\n",
       "      <th></th>\n",
       "      <th>Evaluator</th>\n",
       "      <th>MatchCount</th>\n",
       "      <th>Precision</th>\n",
       "      <th>MR</th>\n",
       "      <th>MRR</th>\n",
       "      <th>MAP</th>\n",
       "      <th>NDCG</th>\n",
       "      <th>Coverage</th>\n",
       "      <th>APLT</th>\n",
       "      <th>ARP</th>\n",
       "      <th>a</th>\n",
       "      <th>regularization</th>\n",
       "      <th>factors</th>\n",
       "      <th>iterations</th>\n",
       "    </tr>\n",
       "  </thead>\n",
       "  <tbody>\n",
       "    <tr>\n",
       "      <th>0</th>\n",
       "      <td>ALSMatrixFactorization</td>\n",
       "      <td>1563</td>\n",
       "      <td>0.148716</td>\n",
       "      <td>0.589914</td>\n",
       "      <td>0.331981</td>\n",
       "      <td>0.21698</td>\n",
       "      <td>0.383296</td>\n",
       "      <td>0.075798</td>\n",
       "      <td>0.024643</td>\n",
       "      <td>78.423501</td>\n",
       "      <td>1</td>\n",
       "      <td>1</td>\n",
       "      <td>100</td>\n",
       "      <td>10</td>\n",
       "    </tr>\n",
       "    <tr>\n",
       "      <th>0</th>\n",
       "      <td>ALSMatrixFactorization</td>\n",
       "      <td>1563</td>\n",
       "      <td>0.148716</td>\n",
       "      <td>0.589914</td>\n",
       "      <td>0.331981</td>\n",
       "      <td>0.21698</td>\n",
       "      <td>0.383296</td>\n",
       "      <td>0.075798</td>\n",
       "      <td>0.024643</td>\n",
       "      <td>78.423501</td>\n",
       "      <td>1</td>\n",
       "      <td>1</td>\n",
       "      <td>100</td>\n",
       "      <td>10</td>\n",
       "    </tr>\n",
       "  </tbody>\n",
       "</table>\n",
       "</div>"
      ]
     },
     "execution_count": 39,
     "metadata": {},
     "output_type": "execute_result"
    }
   ],
   "execution_count": 39
  },
  {
   "metadata": {},
   "cell_type": "code",
   "outputs": [],
   "execution_count": null,
   "source": [
    "als_results_df = als_results_df.reset_index(drop=True)\n",
    "# als_results_df.to_csv(\"../data/evaluation/parameter_tuning/als-mf-top{TOP_N}-{NUMB_EVAL_USERS}user-leaveK-{ROWS}Rows.txt\", sep=\"\\t\", encoding='utf-16', index=False)"
   ],
   "id": "d11e262572ba04f7"
  }
 ],
 "metadata": {
  "kernelspec": {
   "display_name": "Python 3",
   "language": "python",
   "name": "python3"
  },
  "language_info": {
   "codemirror_mode": {
    "name": "ipython",
    "version": 2
   },
   "file_extension": ".py",
   "mimetype": "text/x-python",
   "name": "python",
   "nbconvert_exporter": "python",
   "pygments_lexer": "ipython2",
   "version": "2.7.6"
  }
 },
 "nbformat": 4,
 "nbformat_minor": 5
}
